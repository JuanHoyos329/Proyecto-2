{
 "cells": [
  {
   "cell_type": "markdown",
   "metadata": {},
   "source": [
    " Supongamos que trabajamos como Científicos de Datos para una empresa del\n",
    " sector financiero y queremos determinar la cantidad de fraudes que a diario se\n",
    " podrían esperar. Para lo anterior recolectamos la información de transacciones\n",
    " sospechosas durante 30 días consecutivos.  "
   ]
  },
  {
   "cell_type": "code",
   "execution_count": null,
   "metadata": {},
   "outputs": [],
   "source": [
    "#Nota: Utilizare librerias porque no hay ninguna especificación en la consigna de no hacerlo.\n",
    "import pandas as pd\n",
    "import numpy as np\n",
    "import matplotlib.pyplot as plt\n",
    "from scipy.stats import poisson"
   ]
  },
  {
   "cell_type": "code",
   "execution_count": 2,
   "metadata": {},
   "outputs": [],
   "source": [
    "data = pd.read_csv(\"transacciones(in).csv\", encoding='latin-1')"
   ]
  },
  {
   "cell_type": "code",
   "execution_count": 3,
   "metadata": {},
   "outputs": [
    {
     "name": "stdout",
     "output_type": "stream",
     "text": [
      "<class 'pandas.core.frame.DataFrame'>\n",
      "RangeIndex: 1800 entries, 0 to 1799\n",
      "Data columns (total 3 columns):\n",
      " #   Column      Non-Null Count  Dtype \n",
      "---  ------      --------------  ----- \n",
      " 0   ID          1800 non-null   int64 \n",
      " 1   Estado      1800 non-null   object\n",
      " 2   CategorÃ­a  1800 non-null   int64 \n",
      "dtypes: int64(2), object(1)\n",
      "memory usage: 42.3+ KB\n"
     ]
    }
   ],
   "source": [
    "data.info()"
   ]
  },
  {
   "cell_type": "code",
   "execution_count": 4,
   "metadata": {},
   "outputs": [
    {
     "data": {
      "text/plain": [
       "Estado\n",
       "sospechosa     1773\n",
       "fraudulenta      27\n",
       "Name: count, dtype: int64"
      ]
     },
     "execution_count": 4,
     "metadata": {},
     "output_type": "execute_result"
    }
   ],
   "source": [
    "estado_count= data[\"Estado\"].value_counts()\n",
    "estado_count"
   ]
  },
  {
   "cell_type": "code",
   "execution_count": 5,
   "metadata": {},
   "outputs": [
    {
     "data": {
      "text/html": [
       "<div>\n",
       "<style scoped>\n",
       "    .dataframe tbody tr th:only-of-type {\n",
       "        vertical-align: middle;\n",
       "    }\n",
       "\n",
       "    .dataframe tbody tr th {\n",
       "        vertical-align: top;\n",
       "    }\n",
       "\n",
       "    .dataframe thead th {\n",
       "        text-align: right;\n",
       "    }\n",
       "</style>\n",
       "<table border=\"1\" class=\"dataframe\">\n",
       "  <thead>\n",
       "    <tr style=\"text-align: right;\">\n",
       "      <th></th>\n",
       "      <th>ID</th>\n",
       "      <th>Estado</th>\n",
       "      <th>Categoria</th>\n",
       "    </tr>\n",
       "  </thead>\n",
       "  <tbody>\n",
       "    <tr>\n",
       "      <th>0</th>\n",
       "      <td>4523</td>\n",
       "      <td>sospechosa</td>\n",
       "      <td>0</td>\n",
       "    </tr>\n",
       "    <tr>\n",
       "      <th>1</th>\n",
       "      <td>4524</td>\n",
       "      <td>sospechosa</td>\n",
       "      <td>0</td>\n",
       "    </tr>\n",
       "    <tr>\n",
       "      <th>2</th>\n",
       "      <td>4525</td>\n",
       "      <td>sospechosa</td>\n",
       "      <td>0</td>\n",
       "    </tr>\n",
       "    <tr>\n",
       "      <th>3</th>\n",
       "      <td>4526</td>\n",
       "      <td>sospechosa</td>\n",
       "      <td>0</td>\n",
       "    </tr>\n",
       "    <tr>\n",
       "      <th>4</th>\n",
       "      <td>4527</td>\n",
       "      <td>sospechosa</td>\n",
       "      <td>0</td>\n",
       "    </tr>\n",
       "    <tr>\n",
       "      <th>...</th>\n",
       "      <td>...</td>\n",
       "      <td>...</td>\n",
       "      <td>...</td>\n",
       "    </tr>\n",
       "    <tr>\n",
       "      <th>1795</th>\n",
       "      <td>6318</td>\n",
       "      <td>sospechosa</td>\n",
       "      <td>0</td>\n",
       "    </tr>\n",
       "    <tr>\n",
       "      <th>1796</th>\n",
       "      <td>6319</td>\n",
       "      <td>sospechosa</td>\n",
       "      <td>0</td>\n",
       "    </tr>\n",
       "    <tr>\n",
       "      <th>1797</th>\n",
       "      <td>6320</td>\n",
       "      <td>sospechosa</td>\n",
       "      <td>0</td>\n",
       "    </tr>\n",
       "    <tr>\n",
       "      <th>1798</th>\n",
       "      <td>6321</td>\n",
       "      <td>sospechosa</td>\n",
       "      <td>0</td>\n",
       "    </tr>\n",
       "    <tr>\n",
       "      <th>1799</th>\n",
       "      <td>6322</td>\n",
       "      <td>sospechosa</td>\n",
       "      <td>0</td>\n",
       "    </tr>\n",
       "  </tbody>\n",
       "</table>\n",
       "<p>1800 rows × 3 columns</p>\n",
       "</div>"
      ],
      "text/plain": [
       "        ID      Estado  Categoria\n",
       "0     4523  sospechosa          0\n",
       "1     4524  sospechosa          0\n",
       "2     4525  sospechosa          0\n",
       "3     4526  sospechosa          0\n",
       "4     4527  sospechosa          0\n",
       "...    ...         ...        ...\n",
       "1795  6318  sospechosa          0\n",
       "1796  6319  sospechosa          0\n",
       "1797  6320  sospechosa          0\n",
       "1798  6321  sospechosa          0\n",
       "1799  6322  sospechosa          0\n",
       "\n",
       "[1800 rows x 3 columns]"
      ]
     },
     "execution_count": 5,
     "metadata": {},
     "output_type": "execute_result"
    }
   ],
   "source": [
    "data = data.rename(columns={\"CategorÃ\\xada\": \"Categoria\"})\n",
    "data"
   ]
  },
  {
   "cell_type": "code",
   "execution_count": 6,
   "metadata": {},
   "outputs": [],
   "source": [
    "def unicos (df, columna):\n",
    "    valores = df[columna].value_counts()\n",
    "    cantidad = df[columna].nunique()\n",
    "    print(f\"La columna {columna} tiene {cantidad} valores únicos\")\n",
    "    print(valores)\n",
    "    print()\n",
    "    return"
   ]
  },
  {
   "cell_type": "code",
   "execution_count": 7,
   "metadata": {},
   "outputs": [
    {
     "name": "stdout",
     "output_type": "stream",
     "text": [
      "La columna ID tiene 1800 valores únicos\n",
      "ID\n",
      "6322    1\n",
      "4523    1\n",
      "4524    1\n",
      "4525    1\n",
      "4526    1\n",
      "       ..\n",
      "4535    1\n",
      "4534    1\n",
      "4533    1\n",
      "4532    1\n",
      "4531    1\n",
      "Name: count, Length: 1800, dtype: int64\n",
      "\n",
      "La columna Estado tiene 2 valores únicos\n",
      "Estado\n",
      "sospechosa     1773\n",
      "fraudulenta      27\n",
      "Name: count, dtype: int64\n",
      "\n",
      "La columna Categoria tiene 2 valores únicos\n",
      "Categoria\n",
      "0    1773\n",
      "1      27\n",
      "Name: count, dtype: int64\n",
      "\n"
     ]
    }
   ],
   "source": [
    "for columna in data.columns:\n",
    "    unicos(data, columna)"
   ]
  },
  {
   "cell_type": "markdown",
   "metadata": {},
   "source": [
    "¿Qué tan probable es que en un día determinado una de estas transacciones\n",
    " sospechosas corresponda realmente a un fraude?\n",
    "\n",
    " Esta pregunta la asocio a Bernoulli porque o es 0 o es 1"
   ]
  },
  {
   "cell_type": "code",
   "execution_count": 8,
   "metadata": {},
   "outputs": [],
   "source": [
    "total_transacciones= len(data)\n",
    "#Vamos a calcular los totales de cada categoria \n",
    "Fraude_total =  data[data[\"Categoria\"] == 1].shape[0]\n",
    "Sospechosa_total= data[data[\"Categoria\"] ==0].shape[0]\n",
    "\n",
    "#Ahora voy a calcular la probabilidad de que una de esas transacciones se vuelva un fraude\n",
    "\n",
    "probabilidad_fraude = (Fraude_total / Sospechosa_total)*100"
   ]
  },
  {
   "cell_type": "code",
   "execution_count": 9,
   "metadata": {},
   "outputs": [
    {
     "name": "stdout",
     "output_type": "stream",
     "text": [
      "La probabilidad de que una transacción sospechosa se vuelva un fraude es del 1.52%\n"
     ]
    }
   ],
   "source": [
    "print(f\"La probabilidad de que una transacción sospechosa se vuelva un fraude es del {probabilidad_fraude:.2f}%\")"
   ]
  },
  {
   "cell_type": "markdown",
   "metadata": {},
   "source": [
    "En un dia determinado ¿cúal es la cantidad más probable que podemos\n",
    "tener de transacciones fraudulentas? \n",
    "\n",
    "Aqui recordemos la afirmación:Para lo anterior recolectamos la información de transacciones sospechosas durante 30 dias consecutivos "
   ]
  },
  {
   "cell_type": "code",
   "execution_count": 10,
   "metadata": {},
   "outputs": [
    {
     "name": "stdout",
     "output_type": "stream",
     "text": [
      "En promedio se realizan 60 transacciones diarias\n",
      "De dichas transacciones, 59.10 son sospechosas\n",
      "y en promedio se realiza  0.90 fraudes diarios.\n"
     ]
    }
   ],
   "source": [
    "dias_totales = 30\n",
    "\n",
    "#Primero quiero saber cual es el promedio de transacciones diarias \n",
    "transacciones_dia= total_transacciones / dias_totales\n",
    "print(f\"En promedio se realizan {transacciones_dia:.0f} transacciones diarias\")\n",
    "#Ahora quiero saber el promedio de sospechosas diarias\n",
    "sospechosa_dia = Sospechosa_total/ dias_totales\n",
    "print(f\"De dichas transacciones, {sospechosa_dia:.2f} son sospechosas\")\n",
    "#Ahora quiero saber el promedio de fraudes diarios\n",
    "fraude_dia = Fraude_total/ dias_totales\n",
    "print(f\"y en promedio se realiza  {fraude_dia:.2f} fraudes diarios.\")\n"
   ]
  },
  {
   "cell_type": "code",
   "execution_count": 11,
   "metadata": {},
   "outputs": [
    {
     "name": "stdout",
     "output_type": "stream",
     "text": [
      "El promedio de fraudes diarios es 0.90 y la probabilidad de que ocurran entre 0 y 9 fraudes es: [0.41 0.37 0.16 0.05 0.01 0.00 0.00 0.00 0.00 0.00]\n"
     ]
    }
   ],
   "source": [
    "#Ahora con con poisson \n",
    "\n",
    "mu= fraude_dia\n",
    "x = np.arange(0, 10)  # Número posible de fraudes por día\n",
    "\n",
    "#Keeping the example code from the class 10-13 slides (como las diaps son en ingles)\n",
    "\n",
    "formatted_array= np.array2string(poisson.pmf(x,mu),\n",
    "                                 formatter={'all': lambda x: f'{x:.2f}'})\n",
    "print(f\"El promedio de fraudes diarios es {mu:.2f} y la probabilidad de que ocurran entre 0 y 9 fraudes es: {formatted_array}\")"
   ]
  },
  {
   "cell_type": "markdown",
   "metadata": {},
   "source": [
    "Acompañe su análisis con un gráfico que facilite la interpretación"
   ]
  },
  {
   "cell_type": "code",
   "execution_count": 12,
   "metadata": {},
   "outputs": [
    {
     "data": {
      "image/png": "[encoded data removed]",
      "text/plain": [
       "<Figure size 800x600 with 1 Axes>"
      ]
     },
     "metadata": {},
     "output_type": "display_data"
    }
   ],
   "source": [
    "\n",
    "plt.figure(figsize=(8, 6))\n",
    "plt.bar(x, poisson.pmf(x, mu), color='skyblue', alpha=0.7, edgecolor='black')\n",
    "plt.title(f\"Distribución de Poisson (μ = {mu:.2f})\", fontsize=14)\n",
    "plt.xlabel(\"Número de fraudes por día\", fontsize=12)\n",
    "plt.ylabel(\"Probabilidad\", fontsize=12)\n",
    "plt.xticks(x)\n",
    "plt.grid(axis='y', linestyle='--', alpha=0.7)\n",
    "plt.show()"
   ]
  }
 ],
 "metadata": {
  "kernelspec": {
   "display_name": "Python 3",
   "language": "python",
   "name": "python3"
  },
  "language_info": {
   "codemirror_mode": {
    "name": "ipython",
    "version": 3
   },
   "file_extension": ".py",
   "mimetype": "text/x-python",
   "name": "python",
   "nbconvert_exporter": "python",
   "pygments_lexer": "ipython3",
   "version": "3.12.4"
  }
 },
 "nbformat": 4,
 "nbformat_minor": 2
}
