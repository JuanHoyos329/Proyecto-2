{
 "cells": [
  {
   "cell_type": "code",
   "execution_count": 2,
   "metadata": {},
   "outputs": [],
   "source": [
    "import pandas as pd\n",
    "import numpy as np\n",
    "import matplotlib.pyplot as plt\n",
    "import seaborn as sns\n",
    "from collections import Counter\n",
    "from itertools import accumulate\n",
    "import math"
   ]
  },
  {
   "cell_type": "code",
   "execution_count": 3,
   "metadata": {},
   "outputs": [],
   "source": [
    "data = pd.read_csv(\"transacciones(in).csv\", encoding='latin-1')"
   ]
  },
  {
   "cell_type": "code",
   "execution_count": 4,
   "metadata": {},
   "outputs": [
    {
     "name": "stdout",
     "output_type": "stream",
     "text": [
      "<class 'pandas.core.frame.DataFrame'>\n",
      "RangeIndex: 1800 entries, 0 to 1799\n",
      "Data columns (total 3 columns):\n",
      " #   Column      Non-Null Count  Dtype \n",
      "---  ------      --------------  ----- \n",
      " 0   ID          1800 non-null   int64 \n",
      " 1   Estado      1800 non-null   object\n",
      " 2   CategorÃ­a  1800 non-null   int64 \n",
      "dtypes: int64(2), object(1)\n",
      "memory usage: 42.3+ KB\n"
     ]
    }
   ],
   "source": [
    "data.info()"
   ]
  },
  {
   "cell_type": "code",
   "execution_count": 5,
   "metadata": {},
   "outputs": [
    {
     "data": {
      "text/plain": [
       "Estado\n",
       "sospechosa     1773\n",
       "fraudulenta      27\n",
       "Name: count, dtype: int64"
      ]
     },
     "execution_count": 5,
     "metadata": {},
     "output_type": "execute_result"
    }
   ],
   "source": [
    "estado_count= data[\"Estado\"].value_counts()\n",
    "estado_count"
   ]
  },
  {
   "cell_type": "code",
   "execution_count": 6,
   "metadata": {},
   "outputs": [
    {
     "data": {
      "text/html": [
       "<div>\n",
       "<style scoped>\n",
       "    .dataframe tbody tr th:only-of-type {\n",
       "        vertical-align: middle;\n",
       "    }\n",
       "\n",
       "    .dataframe tbody tr th {\n",
       "        vertical-align: top;\n",
       "    }\n",
       "\n",
       "    .dataframe thead th {\n",
       "        text-align: right;\n",
       "    }\n",
       "</style>\n",
       "<table border=\"1\" class=\"dataframe\">\n",
       "  <thead>\n",
       "    <tr style=\"text-align: right;\">\n",
       "      <th></th>\n",
       "      <th>ID</th>\n",
       "      <th>Estado</th>\n",
       "      <th>Categoria</th>\n",
       "    </tr>\n",
       "  </thead>\n",
       "  <tbody>\n",
       "    <tr>\n",
       "      <th>0</th>\n",
       "      <td>4523</td>\n",
       "      <td>sospechosa</td>\n",
       "      <td>0</td>\n",
       "    </tr>\n",
       "    <tr>\n",
       "      <th>1</th>\n",
       "      <td>4524</td>\n",
       "      <td>sospechosa</td>\n",
       "      <td>0</td>\n",
       "    </tr>\n",
       "    <tr>\n",
       "      <th>2</th>\n",
       "      <td>4525</td>\n",
       "      <td>sospechosa</td>\n",
       "      <td>0</td>\n",
       "    </tr>\n",
       "    <tr>\n",
       "      <th>3</th>\n",
       "      <td>4526</td>\n",
       "      <td>sospechosa</td>\n",
       "      <td>0</td>\n",
       "    </tr>\n",
       "    <tr>\n",
       "      <th>4</th>\n",
       "      <td>4527</td>\n",
       "      <td>sospechosa</td>\n",
       "      <td>0</td>\n",
       "    </tr>\n",
       "    <tr>\n",
       "      <th>...</th>\n",
       "      <td>...</td>\n",
       "      <td>...</td>\n",
       "      <td>...</td>\n",
       "    </tr>\n",
       "    <tr>\n",
       "      <th>1795</th>\n",
       "      <td>6318</td>\n",
       "      <td>sospechosa</td>\n",
       "      <td>0</td>\n",
       "    </tr>\n",
       "    <tr>\n",
       "      <th>1796</th>\n",
       "      <td>6319</td>\n",
       "      <td>sospechosa</td>\n",
       "      <td>0</td>\n",
       "    </tr>\n",
       "    <tr>\n",
       "      <th>1797</th>\n",
       "      <td>6320</td>\n",
       "      <td>sospechosa</td>\n",
       "      <td>0</td>\n",
       "    </tr>\n",
       "    <tr>\n",
       "      <th>1798</th>\n",
       "      <td>6321</td>\n",
       "      <td>sospechosa</td>\n",
       "      <td>0</td>\n",
       "    </tr>\n",
       "    <tr>\n",
       "      <th>1799</th>\n",
       "      <td>6322</td>\n",
       "      <td>sospechosa</td>\n",
       "      <td>0</td>\n",
       "    </tr>\n",
       "  </tbody>\n",
       "</table>\n",
       "<p>1800 rows × 3 columns</p>\n",
       "</div>"
      ],
      "text/plain": [
       "        ID      Estado  Categoria\n",
       "0     4523  sospechosa          0\n",
       "1     4524  sospechosa          0\n",
       "2     4525  sospechosa          0\n",
       "3     4526  sospechosa          0\n",
       "4     4527  sospechosa          0\n",
       "...    ...         ...        ...\n",
       "1795  6318  sospechosa          0\n",
       "1796  6319  sospechosa          0\n",
       "1797  6320  sospechosa          0\n",
       "1798  6321  sospechosa          0\n",
       "1799  6322  sospechosa          0\n",
       "\n",
       "[1800 rows x 3 columns]"
      ]
     },
     "execution_count": 6,
     "metadata": {},
     "output_type": "execute_result"
    }
   ],
   "source": [
    "data = data.rename(columns={\"CategorÃ\\xada\": \"Categoria\"})\n",
    "data"
   ]
  },
  {
   "cell_type": "code",
   "execution_count": 11,
   "metadata": {},
   "outputs": [],
   "source": [
    "def unicos (df, columna):\n",
    "    valores = df[columna].value_counts()\n",
    "    cantidad = df[columna].nunique()\n",
    "    print(f\"La columna {columna} tiene {cantidad} valores únicos\")\n",
    "    print(valores)\n",
    "    print()\n",
    "    return"
   ]
  },
  {
   "cell_type": "code",
   "execution_count": 12,
   "metadata": {},
   "outputs": [
    {
     "name": "stdout",
     "output_type": "stream",
     "text": [
      "La columna ID tiene 1800 valores únicos\n",
      "ID\n",
      "6322    1\n",
      "4523    1\n",
      "4524    1\n",
      "4525    1\n",
      "4526    1\n",
      "       ..\n",
      "4535    1\n",
      "4534    1\n",
      "4533    1\n",
      "4532    1\n",
      "4531    1\n",
      "Name: count, Length: 1800, dtype: int64\n",
      "\n",
      "La columna Estado tiene 2 valores únicos\n",
      "Estado\n",
      "sospechosa     1773\n",
      "fraudulenta      27\n",
      "Name: count, dtype: int64\n",
      "\n",
      "La columna Categoria tiene 2 valores únicos\n",
      "Categoria\n",
      "0    1773\n",
      "1      27\n",
      "Name: count, dtype: int64\n",
      "\n"
     ]
    }
   ],
   "source": [
    "for columna in data.columns:\n",
    "    unicos(data, columna)"
   ]
  },
  {
   "cell_type": "markdown",
   "metadata": {},
   "source": [
    "¿Qué tan probable es que en un día determinado una de estas transacciones\n",
    " sospechosas corresponda realmente a un fraude?\n",
    "\n",
    " Esta pregunta la asocio a Bernoulli porque o es 0 o es 1"
   ]
  },
  {
   "cell_type": "code",
   "execution_count": 18,
   "metadata": {},
   "outputs": [],
   "source": [
    "#Vamos a calcular los totales de cada categoria \n",
    "Fraude_total =  data[data[\"Categoria\"] == 1].shape[0]\n",
    "Sospechosa_total= data[data[\"Categoria\"] ==0].shape[0]\n",
    "\n",
    "#Ahora voy a calcular la probabilidad de que una de esas transacciones se vuelva un fraude\n",
    "\n",
    "probabilidad_fraude = (Fraude_total / Sospechosa_total)*100"
   ]
  },
  {
   "cell_type": "code",
   "execution_count": 22,
   "metadata": {},
   "outputs": [
    {
     "name": "stdout",
     "output_type": "stream",
     "text": [
      "La probabilidad de que una transacción sospechosa se vuelva un fraude es del 1.52%\n"
     ]
    }
   ],
   "source": [
    "print(f\"La probabilidad de que una transacción sospechosa se vuelva un fraude es del {probabilidad_fraude:.2f}%\")"
   ]
  },
  {
   "cell_type": "markdown",
   "metadata": {},
   "source": [
    "En un dia determinado ¿cúal es la cantidad más probable que podemos\n",
    "tener de transacciones fraudulentas? \n",
    "\n",
    "Aqui recordemos la afirmación:Para lo anterior recolectamos la información de transacciones sospechosas durante 30 dias consecutivos "
   ]
  },
  {
   "cell_type": "code",
   "execution_count": 26,
   "metadata": {},
   "outputs": [
    {
     "data": {
      "text/plain": [
       "90.0"
      ]
     },
     "execution_count": 26,
     "metadata": {},
     "output_type": "execute_result"
    }
   ],
   "source": [
    "dias_totales = 30\n",
    "fraude_dia = (Fraude_total/ dias_totales)*100"
   ]
  }
 ],
 "metadata": {
  "kernelspec": {
   "display_name": "Python 3",
   "language": "python",
   "name": "python3"
  },
  "language_info": {
   "codemirror_mode": {
    "name": "ipython",
    "version": 3
   },
   "file_extension": ".py",
   "mimetype": "text/x-python",
   "name": "python",
   "nbconvert_exporter": "python",
   "pygments_lexer": "ipython3",
   "version": "3.12.4"
  }
 },
 "nbformat": 4,
 "nbformat_minor": 2
}
