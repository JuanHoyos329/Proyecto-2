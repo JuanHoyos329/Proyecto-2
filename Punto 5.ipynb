{
 "cells": [
  {
   "cell_type": "markdown",
   "id": "dc813bc6",
   "metadata": {},
   "source": [
    " La detección de anomalías es un desafío común en el campo del Machine Learning. Consiste en identificar aquellos datos que presentan comportamientos atípicos, es decir, que se desvían de los patrones considerados “normales” en un conjunto de datos. Un ejemplo clásico de este problema es la detección\n",
    " de transacciones financieras fraudulentas, en la que se busca determinar si el uso de una tarjeta de crédito es legítimo o fraudulento."
   ]
  },
  {
   "cell_type": "markdown",
   "id": "0a513969",
   "metadata": {},
   "source": [
    "En este ejercicio se simplifica el problema de detección de fraude utilizando únicamente el monto de la transacción (en USD). Se propone construir un \n",
    "modelo sencillo basado en la distribución normal, que se entrene con un conjunto de datos. "
   ]
  },
  {
   "cell_type": "code",
   "execution_count": 281,
   "id": "4b716ba2",
   "metadata": {},
   "outputs": [],
   "source": [
    "import pandas as pd\n",
    "import numpy as np"
   ]
  },
  {
   "cell_type": "markdown",
   "id": "abdb7a6e",
   "metadata": {},
   "source": [
    "A partir de la distribucion Normal, defina un criterio para clasificar una\n",
    "transaccion como “normal\" o “fraudulenta” del set de entrenamiento"
   ]
  },
  {
   "cell_type": "code",
   "execution_count": 282,
   "id": "38964533",
   "metadata": {},
   "outputs": [],
   "source": [
    "train_data = pd.read_csv(r\"det_fraudes_train(in).csv\", encoding='latin1')\n",
    "test_data = pd.read_csv(r\"det_fraudes_test(in).csv\", encoding='latin1')"
   ]
  },
  {
   "cell_type": "code",
   "execution_count": 283,
   "id": "b6a899a7",
   "metadata": {},
   "outputs": [],
   "source": [
    "train_data.rename(columns={'categorÃ­a': 'Categoría'}, inplace=True)"
   ]
  },
  {
   "cell_type": "code",
   "execution_count": 284,
   "id": "d3fe44b3",
   "metadata": {},
   "outputs": [
    {
     "name": "stdout",
     "output_type": "stream",
     "text": [
      "Media: 153.24, Desviación estándar: 28.92\n"
     ]
    }
   ],
   "source": [
    "mean = train_data['monto (USD)'].mean()\n",
    "std = train_data['monto (USD)'].std()\n",
    "\n",
    "print(f\"Media: {mean:.2f}, Desviación estándar: {std:.2f}\")"
   ]
  },
  {
   "cell_type": "code",
   "execution_count": 285,
   "id": "e48b7964",
   "metadata": {},
   "outputs": [
    {
     "name": "stdout",
     "output_type": "stream",
     "text": [
      "El rango considerado normal, esta entre 95.40 USD y 211.08 USD\n"
     ]
    }
   ],
   "source": [
    "limite_inferior = mean - 2 * std\n",
    "limite_superior = mean + 2 * std\n",
    "\n",
    "print(f\"El rango considerado normal, esta entre {limite_inferior:.2f} USD y {limite_superior:.2f} USD\")\n",
    "\n",
    "# Filtrando los valores atípicos"
   ]
  },
  {
   "cell_type": "code",
   "execution_count": 286,
   "id": "699a617d",
   "metadata": {},
   "outputs": [],
   "source": [
    "#Funcioón para el modelo \n",
    "def clasificar_transaccion(monto):\n",
    "    if monto < limite_inferior or monto > limite_superior:\n",
    "        return \"fraudulenta\"\n",
    "    else:\n",
    "        return \"normal\""
   ]
  },
  {
   "cell_type": "code",
   "execution_count": 287,
   "id": "2780d12b",
   "metadata": {},
   "outputs": [],
   "source": [
    "#creamos una columna con la predicción del modelo \n",
    "train_data['predicción'] = train_data['monto (USD)'].apply(clasificar_transaccion)"
   ]
  },
  {
   "cell_type": "code",
   "execution_count": 288,
   "id": "0685fbab",
   "metadata": {},
   "outputs": [
    {
     "data": {
      "text/html": [
       "<div>\n",
       "<style scoped>\n",
       "    .dataframe tbody tr th:only-of-type {\n",
       "        vertical-align: middle;\n",
       "    }\n",
       "\n",
       "    .dataframe tbody tr th {\n",
       "        vertical-align: top;\n",
       "    }\n",
       "\n",
       "    .dataframe thead th {\n",
       "        text-align: right;\n",
       "    }\n",
       "</style>\n",
       "<table border=\"1\" class=\"dataframe\">\n",
       "  <thead>\n",
       "    <tr style=\"text-align: right;\">\n",
       "      <th></th>\n",
       "      <th>monto (USD)</th>\n",
       "      <th>Categoría</th>\n",
       "      <th>predicción</th>\n",
       "    </tr>\n",
       "  </thead>\n",
       "  <tbody>\n",
       "    <tr>\n",
       "      <th>0</th>\n",
       "      <td>151.2</td>\n",
       "      <td>0</td>\n",
       "      <td>normal</td>\n",
       "    </tr>\n",
       "    <tr>\n",
       "      <th>1</th>\n",
       "      <td>150.5</td>\n",
       "      <td>0</td>\n",
       "      <td>normal</td>\n",
       "    </tr>\n",
       "    <tr>\n",
       "      <th>2</th>\n",
       "      <td>142.4</td>\n",
       "      <td>0</td>\n",
       "      <td>normal</td>\n",
       "    </tr>\n",
       "    <tr>\n",
       "      <th>3</th>\n",
       "      <td>122.9</td>\n",
       "      <td>0</td>\n",
       "      <td>normal</td>\n",
       "    </tr>\n",
       "    <tr>\n",
       "      <th>4</th>\n",
       "      <td>144.5</td>\n",
       "      <td>0</td>\n",
       "      <td>normal</td>\n",
       "    </tr>\n",
       "    <tr>\n",
       "      <th>...</th>\n",
       "      <td>...</td>\n",
       "      <td>...</td>\n",
       "      <td>...</td>\n",
       "    </tr>\n",
       "    <tr>\n",
       "      <th>2455</th>\n",
       "      <td>155.8</td>\n",
       "      <td>0</td>\n",
       "      <td>normal</td>\n",
       "    </tr>\n",
       "    <tr>\n",
       "      <th>2456</th>\n",
       "      <td>156.8</td>\n",
       "      <td>0</td>\n",
       "      <td>normal</td>\n",
       "    </tr>\n",
       "    <tr>\n",
       "      <th>2457</th>\n",
       "      <td>177.7</td>\n",
       "      <td>0</td>\n",
       "      <td>normal</td>\n",
       "    </tr>\n",
       "    <tr>\n",
       "      <th>2458</th>\n",
       "      <td>139.3</td>\n",
       "      <td>0</td>\n",
       "      <td>normal</td>\n",
       "    </tr>\n",
       "    <tr>\n",
       "      <th>2459</th>\n",
       "      <td>241.1</td>\n",
       "      <td>1</td>\n",
       "      <td>fraudulenta</td>\n",
       "    </tr>\n",
       "  </tbody>\n",
       "</table>\n",
       "<p>2460 rows × 3 columns</p>\n",
       "</div>"
      ],
      "text/plain": [
       "      monto (USD)  Categoría   predicción\n",
       "0           151.2          0       normal\n",
       "1           150.5          0       normal\n",
       "2           142.4          0       normal\n",
       "3           122.9          0       normal\n",
       "4           144.5          0       normal\n",
       "...           ...        ...          ...\n",
       "2455        155.8          0       normal\n",
       "2456        156.8          0       normal\n",
       "2457        177.7          0       normal\n",
       "2458        139.3          0       normal\n",
       "2459        241.1          1  fraudulenta\n",
       "\n",
       "[2460 rows x 3 columns]"
      ]
     },
     "execution_count": 288,
     "metadata": {},
     "output_type": "execute_result"
    }
   ],
   "source": [
    "train_data"
   ]
  },
  {
   "cell_type": "markdown",
   "id": "07bb95ab",
   "metadata": {},
   "source": [
    "Compruebe si el clasificador funciona de forma adecuada, para ello defina la función Exactitud=100(número de aciertos/número total de datos) donde\n",
    "número total de datos son todos los datos clasificados y número de aciertos es el número de datos (de cualquier categoría, “normal” ó “fraudulenta”)\n",
    "que fueron clasificados correctamente."
   ]
  },
  {
   "cell_type": "code",
   "execution_count": 289,
   "id": "383ffc86",
   "metadata": {},
   "outputs": [],
   "source": [
    "#De acuerdo a la categoria, vamos a crear una nueva columna con la etiqueta real\n",
    "train_data['etiqueta_real'] = train_data['Categoría'].apply(lambda x: \"fraudulenta\" if x == 1 else \"normal\")"
   ]
  },
  {
   "cell_type": "code",
   "execution_count": 290,
   "id": "503f5282",
   "metadata": {},
   "outputs": [
    {
     "data": {
      "text/html": [
       "<div>\n",
       "<style scoped>\n",
       "    .dataframe tbody tr th:only-of-type {\n",
       "        vertical-align: middle;\n",
       "    }\n",
       "\n",
       "    .dataframe tbody tr th {\n",
       "        vertical-align: top;\n",
       "    }\n",
       "\n",
       "    .dataframe thead th {\n",
       "        text-align: right;\n",
       "    }\n",
       "</style>\n",
       "<table border=\"1\" class=\"dataframe\">\n",
       "  <thead>\n",
       "    <tr style=\"text-align: right;\">\n",
       "      <th></th>\n",
       "      <th>monto (USD)</th>\n",
       "      <th>Categoría</th>\n",
       "      <th>predicción</th>\n",
       "      <th>etiqueta_real</th>\n",
       "    </tr>\n",
       "  </thead>\n",
       "  <tbody>\n",
       "    <tr>\n",
       "      <th>0</th>\n",
       "      <td>151.2</td>\n",
       "      <td>0</td>\n",
       "      <td>normal</td>\n",
       "      <td>normal</td>\n",
       "    </tr>\n",
       "    <tr>\n",
       "      <th>1</th>\n",
       "      <td>150.5</td>\n",
       "      <td>0</td>\n",
       "      <td>normal</td>\n",
       "      <td>normal</td>\n",
       "    </tr>\n",
       "    <tr>\n",
       "      <th>2</th>\n",
       "      <td>142.4</td>\n",
       "      <td>0</td>\n",
       "      <td>normal</td>\n",
       "      <td>normal</td>\n",
       "    </tr>\n",
       "    <tr>\n",
       "      <th>3</th>\n",
       "      <td>122.9</td>\n",
       "      <td>0</td>\n",
       "      <td>normal</td>\n",
       "      <td>normal</td>\n",
       "    </tr>\n",
       "    <tr>\n",
       "      <th>4</th>\n",
       "      <td>144.5</td>\n",
       "      <td>0</td>\n",
       "      <td>normal</td>\n",
       "      <td>normal</td>\n",
       "    </tr>\n",
       "    <tr>\n",
       "      <th>...</th>\n",
       "      <td>...</td>\n",
       "      <td>...</td>\n",
       "      <td>...</td>\n",
       "      <td>...</td>\n",
       "    </tr>\n",
       "    <tr>\n",
       "      <th>2455</th>\n",
       "      <td>155.8</td>\n",
       "      <td>0</td>\n",
       "      <td>normal</td>\n",
       "      <td>normal</td>\n",
       "    </tr>\n",
       "    <tr>\n",
       "      <th>2456</th>\n",
       "      <td>156.8</td>\n",
       "      <td>0</td>\n",
       "      <td>normal</td>\n",
       "      <td>normal</td>\n",
       "    </tr>\n",
       "    <tr>\n",
       "      <th>2457</th>\n",
       "      <td>177.7</td>\n",
       "      <td>0</td>\n",
       "      <td>normal</td>\n",
       "      <td>normal</td>\n",
       "    </tr>\n",
       "    <tr>\n",
       "      <th>2458</th>\n",
       "      <td>139.3</td>\n",
       "      <td>0</td>\n",
       "      <td>normal</td>\n",
       "      <td>normal</td>\n",
       "    </tr>\n",
       "    <tr>\n",
       "      <th>2459</th>\n",
       "      <td>241.1</td>\n",
       "      <td>1</td>\n",
       "      <td>fraudulenta</td>\n",
       "      <td>fraudulenta</td>\n",
       "    </tr>\n",
       "  </tbody>\n",
       "</table>\n",
       "<p>2460 rows × 4 columns</p>\n",
       "</div>"
      ],
      "text/plain": [
       "      monto (USD)  Categoría   predicción etiqueta_real\n",
       "0           151.2          0       normal        normal\n",
       "1           150.5          0       normal        normal\n",
       "2           142.4          0       normal        normal\n",
       "3           122.9          0       normal        normal\n",
       "4           144.5          0       normal        normal\n",
       "...           ...        ...          ...           ...\n",
       "2455        155.8          0       normal        normal\n",
       "2456        156.8          0       normal        normal\n",
       "2457        177.7          0       normal        normal\n",
       "2458        139.3          0       normal        normal\n",
       "2459        241.1          1  fraudulenta   fraudulenta\n",
       "\n",
       "[2460 rows x 4 columns]"
      ]
     },
     "execution_count": 290,
     "metadata": {},
     "output_type": "execute_result"
    }
   ],
   "source": [
    "train_data"
   ]
  },
  {
   "cell_type": "code",
   "execution_count": 291,
   "id": "39cb4a98",
   "metadata": {},
   "outputs": [
    {
     "data": {
      "text/html": [
       "<div>\n",
       "<style scoped>\n",
       "    .dataframe tbody tr th:only-of-type {\n",
       "        vertical-align: middle;\n",
       "    }\n",
       "\n",
       "    .dataframe tbody tr th {\n",
       "        vertical-align: top;\n",
       "    }\n",
       "\n",
       "    .dataframe thead th {\n",
       "        text-align: right;\n",
       "    }\n",
       "</style>\n",
       "<table border=\"1\" class=\"dataframe\">\n",
       "  <thead>\n",
       "    <tr style=\"text-align: right;\">\n",
       "      <th></th>\n",
       "      <th>monto (USD)</th>\n",
       "      <th>Categoría</th>\n",
       "      <th>predicción</th>\n",
       "      <th>etiqueta_real</th>\n",
       "      <th>acierto</th>\n",
       "    </tr>\n",
       "  </thead>\n",
       "  <tbody>\n",
       "    <tr>\n",
       "      <th>0</th>\n",
       "      <td>151.2</td>\n",
       "      <td>0</td>\n",
       "      <td>normal</td>\n",
       "      <td>normal</td>\n",
       "      <td>True</td>\n",
       "    </tr>\n",
       "    <tr>\n",
       "      <th>1</th>\n",
       "      <td>150.5</td>\n",
       "      <td>0</td>\n",
       "      <td>normal</td>\n",
       "      <td>normal</td>\n",
       "      <td>True</td>\n",
       "    </tr>\n",
       "    <tr>\n",
       "      <th>2</th>\n",
       "      <td>142.4</td>\n",
       "      <td>0</td>\n",
       "      <td>normal</td>\n",
       "      <td>normal</td>\n",
       "      <td>True</td>\n",
       "    </tr>\n",
       "    <tr>\n",
       "      <th>3</th>\n",
       "      <td>122.9</td>\n",
       "      <td>0</td>\n",
       "      <td>normal</td>\n",
       "      <td>normal</td>\n",
       "      <td>True</td>\n",
       "    </tr>\n",
       "    <tr>\n",
       "      <th>4</th>\n",
       "      <td>144.5</td>\n",
       "      <td>0</td>\n",
       "      <td>normal</td>\n",
       "      <td>normal</td>\n",
       "      <td>True</td>\n",
       "    </tr>\n",
       "    <tr>\n",
       "      <th>...</th>\n",
       "      <td>...</td>\n",
       "      <td>...</td>\n",
       "      <td>...</td>\n",
       "      <td>...</td>\n",
       "      <td>...</td>\n",
       "    </tr>\n",
       "    <tr>\n",
       "      <th>2455</th>\n",
       "      <td>155.8</td>\n",
       "      <td>0</td>\n",
       "      <td>normal</td>\n",
       "      <td>normal</td>\n",
       "      <td>True</td>\n",
       "    </tr>\n",
       "    <tr>\n",
       "      <th>2456</th>\n",
       "      <td>156.8</td>\n",
       "      <td>0</td>\n",
       "      <td>normal</td>\n",
       "      <td>normal</td>\n",
       "      <td>True</td>\n",
       "    </tr>\n",
       "    <tr>\n",
       "      <th>2457</th>\n",
       "      <td>177.7</td>\n",
       "      <td>0</td>\n",
       "      <td>normal</td>\n",
       "      <td>normal</td>\n",
       "      <td>True</td>\n",
       "    </tr>\n",
       "    <tr>\n",
       "      <th>2458</th>\n",
       "      <td>139.3</td>\n",
       "      <td>0</td>\n",
       "      <td>normal</td>\n",
       "      <td>normal</td>\n",
       "      <td>True</td>\n",
       "    </tr>\n",
       "    <tr>\n",
       "      <th>2459</th>\n",
       "      <td>241.1</td>\n",
       "      <td>1</td>\n",
       "      <td>fraudulenta</td>\n",
       "      <td>fraudulenta</td>\n",
       "      <td>True</td>\n",
       "    </tr>\n",
       "  </tbody>\n",
       "</table>\n",
       "<p>2460 rows × 5 columns</p>\n",
       "</div>"
      ],
      "text/plain": [
       "      monto (USD)  Categoría   predicción etiqueta_real  acierto\n",
       "0           151.2          0       normal        normal     True\n",
       "1           150.5          0       normal        normal     True\n",
       "2           142.4          0       normal        normal     True\n",
       "3           122.9          0       normal        normal     True\n",
       "4           144.5          0       normal        normal     True\n",
       "...           ...        ...          ...           ...      ...\n",
       "2455        155.8          0       normal        normal     True\n",
       "2456        156.8          0       normal        normal     True\n",
       "2457        177.7          0       normal        normal     True\n",
       "2458        139.3          0       normal        normal     True\n",
       "2459        241.1          1  fraudulenta   fraudulenta     True\n",
       "\n",
       "[2460 rows x 5 columns]"
      ]
     },
     "execution_count": 291,
     "metadata": {},
     "output_type": "execute_result"
    }
   ],
   "source": [
    "#verificar si cada predicción fue correcta o no\n",
    "train_data['acierto'] = train_data['predicción'] == train_data['etiqueta_real']\n",
    "train_data"
   ]
  },
  {
   "cell_type": "code",
   "execution_count": 292,
   "id": "7cff23e1",
   "metadata": {},
   "outputs": [
    {
     "name": "stdout",
     "output_type": "stream",
     "text": [
      "La exactitud del modelo en prueba es del: 98.09%\n"
     ]
    }
   ],
   "source": [
    "# Calcular exactitud\n",
    "exactitud = 100 * train_data['acierto'].mean()\n",
    "print(f\"La exactitud del modelo en prueba es del: {exactitud:.2f}%\")"
   ]
  }
 ],
 "metadata": {
  "kernelspec": {
   "display_name": "Python 3",
   "language": "python",
   "name": "python3"
  },
  "language_info": {
   "codemirror_mode": {
    "name": "ipython",
    "version": 3
   },
   "file_extension": ".py",
   "mimetype": "text/x-python",
   "name": "python",
   "nbconvert_exporter": "python",
   "pygments_lexer": "ipython3",
   "version": "3.12.4"
  }
 },
 "nbformat": 4,
 "nbformat_minor": 5
}
