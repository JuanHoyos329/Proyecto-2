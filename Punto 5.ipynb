{
 "cells": [
  {
   "cell_type": "markdown",
   "id": "dc813bc6",
   "metadata": {},
   "source": [
    " La detección de anomalías es un desafío común en el campo del Machine Learning. Consiste en identificar aquellos datos que presentan comportamientos atípicos, es decir, que se desvían de los patrones considerados “normales” en un conjunto de datos. Un ejemplo clásico de este problema es la detección\n",
    " de transacciones financieras fraudulentas, en la que se busca determinar si el uso de una tarjeta de crédito es legítimo o fraudulento."
   ]
  },
  {
   "cell_type": "markdown",
   "id": "0a513969",
   "metadata": {},
   "source": [
    "En este ejercicio se simplifica el problema de detección de fraude utilizando únicamente el monto de la transacción (en USD). Se propone construir un \n",
    "modelo sencillo basado en la distribución normal, que se entrene con un conjunto de datos. "
   ]
  },
  {
   "cell_type": "code",
   "execution_count": 13,
   "id": "4b716ba2",
   "metadata": {},
   "outputs": [],
   "source": [
    "import pandas as pd\n",
    "import numpy as np"
   ]
  },
  {
   "cell_type": "markdown",
   "id": "abdb7a6e",
   "metadata": {},
   "source": [
    "A partir de la distribucion Normal, defina un criterio para clasificar una\n",
    "transaccion como “normal\" o “fraudulenta” del set de entrenamiento"
   ]
  },
  {
   "cell_type": "code",
   "execution_count": 14,
   "id": "38964533",
   "metadata": {},
   "outputs": [],
   "source": [
    "train_data = pd.read_csv(r\"det_fraudes_train(in).csv\", encoding='latin1')\n",
    "teste_data = pd.read_csv(r\"det_fraudes_test(in).csv\", encoding='latin1')"
   ]
  },
  {
   "cell_type": "code",
   "execution_count": 21,
   "id": "d3fe44b3",
   "metadata": {},
   "outputs": [
    {
     "name": "stdout",
     "output_type": "stream",
     "text": [
      "Media: 153.24, Desviación estándar: 28.92\n"
     ]
    }
   ],
   "source": [
    "mean = train_data['monto (USD)'].mean()\n",
    "std = train_data['monto (USD)'].std()\n",
    "\n",
    "print(f\"Media: {mean:.2f}, Desviación estándar: {std:.2f}\")"
   ]
  },
  {
   "cell_type": "code",
   "execution_count": null,
   "id": "e48b7964",
   "metadata": {},
   "outputs": [
    {
     "name": "stdout",
     "output_type": "stream",
     "text": [
      "Criticos: 66.48, 240.00\n"
     ]
    }
   ],
   "source": [
    "limite_inferior = mean - 3 * std\n",
    "limite_superior = mean + 3 * std\n",
    "\n",
    "print(f\"Criticos: {limite_inferior:.2f}, {limite_superior:.2f}\")\n",
    "\n",
    "# Filtrando los valores atípicos"
   ]
  },
  {
   "cell_type": "code",
   "execution_count": 17,
   "id": "699a617d",
   "metadata": {},
   "outputs": [],
   "source": [
    "def clasificar_transaccion(monto):\n",
    "    if monto < limite_inferior or monto > limite_superior:\n",
    "        return \"fraudulenta\"\n",
    "    else:\n",
    "        return \"normal\""
   ]
  },
  {
   "cell_type": "code",
   "execution_count": 18,
   "id": "2780d12b",
   "metadata": {},
   "outputs": [
    {
     "name": "stdout",
     "output_type": "stream",
     "text": [
      "   monto (USD)\n",
      "0       normal\n",
      "1       normal\n",
      "2       normal\n",
      "3  fraudulenta\n",
      "4  fraudulenta\n"
     ]
    }
   ],
   "source": [
    "teste_data['monto (USD)'] = teste_data['monto (USD)'].apply(clasificar_transaccion)\n",
    "print(teste_data.head())"
   ]
  },
  {
   "cell_type": "markdown",
   "id": "07bb95ab",
   "metadata": {},
   "source": [
    "Compruebe si el clasificador funciona de forma adecuada, para ello defina la función Exactitud=100(número de aciertos/número total de datos) donde\n",
    "número total de datos son todos los datos clasificados y número de aciertos es el número de datos (de cualquier categoría, “normal” ó “fraudulenta”)\n",
    "que fueron clasificados correctamente."
   ]
  },
  {
   "cell_type": "code",
   "execution_count": null,
   "id": "e67d4198",
   "metadata": {},
   "outputs": [],
   "source": []
  }
 ],
 "metadata": {
  "kernelspec": {
   "display_name": "Python 3",
   "language": "python",
   "name": "python3"
  },
  "language_info": {
   "codemirror_mode": {
    "name": "ipython",
    "version": 3
   },
   "file_extension": ".py",
   "mimetype": "text/x-python",
   "name": "python",
   "nbconvert_exporter": "python",
   "pygments_lexer": "ipython3",
   "version": "3.12.4"
  }
 },
 "nbformat": 4,
 "nbformat_minor": 5
}
