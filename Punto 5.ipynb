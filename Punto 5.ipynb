{
 "cells": [
  {
   "cell_type": "code",
   "execution_count": 1,
   "id": "4b716ba2",
   "metadata": {},
   "outputs": [],
   "source": [
    "import pandas as pd\n",
    "import numpy as np"
   ]
  },
  {
   "cell_type": "markdown",
   "id": "abdb7a6e",
   "metadata": {},
   "source": [
    "B) A partir de la distribucion Normal, defina un criterio para clasificar una\n",
    " transaccion como “normal\" o “fraudulenta” del set de entrenamiento"
   ]
  },
  {
   "cell_type": "code",
   "execution_count": 2,
   "id": "38964533",
   "metadata": {},
   "outputs": [],
   "source": [
    "train_data = pd.read_csv(r\"det_fraudes_train(in).csv\", encoding='latin1')\n",
    "teste_data = pd.read_csv(r\"det_fraudes_test(in).csv\", encoding='latin1')"
   ]
  },
  {
   "cell_type": "code",
   "execution_count": 3,
   "id": "d3fe44b3",
   "metadata": {},
   "outputs": [
    {
     "name": "stdout",
     "output_type": "stream",
     "text": [
      "Media: 153.23524390243907, n\\ Desviación estándar: 28.91999871160655\n"
     ]
    }
   ],
   "source": [
    "mean = train_data['monto (USD)'].mean()\n",
    "std = train_data['monto (USD)'].std()\n",
    "\n",
    "print(f\"Media: {mean}, n\\ Desviación estándar: {std}\")"
   ]
  },
  {
   "cell_type": "code",
   "execution_count": 4,
   "id": "e48b7964",
   "metadata": {},
   "outputs": [
    {
     "name": "stdout",
     "output_type": "stream",
     "text": [
      "Criticos: 66.47524776761942, 239.99524003725872\n"
     ]
    }
   ],
   "source": [
    "limite_inferior = mean - 3 * std\n",
    "limite_superior = mean + 3 * std\n",
    "\n",
    "print(f\"Criticos: {limite_inferior}, {limite_superior}\")\n",
    "# Filtrando los valores atípicos"
   ]
  },
  {
   "cell_type": "code",
   "execution_count": 5,
   "id": "699a617d",
   "metadata": {},
   "outputs": [],
   "source": [
    "def clasificar_transaccion(monto):\n",
    "    if monto < limite_inferior or monto > limite_superior:\n",
    "        return \"fraudulenta\"\n",
    "    else:\n",
    "        return \"normal\""
   ]
  },
  {
   "cell_type": "code",
   "execution_count": 6,
   "id": "2780d12b",
   "metadata": {},
   "outputs": [
    {
     "name": "stdout",
     "output_type": "stream",
     "text": [
      "   monto (USD)\n",
      "0       normal\n",
      "1       normal\n",
      "2       normal\n",
      "3  fraudulenta\n",
      "4  fraudulenta\n"
     ]
    }
   ],
   "source": [
    "teste_data['monto (USD)'] = teste_data['monto (USD)'].apply(clasificar_transaccion)\n",
    "print(teste_data.head())"
   ]
  }
 ],
 "metadata": {
  "kernelspec": {
   "display_name": "Python 3",
   "language": "python",
   "name": "python3"
  },
  "language_info": {
   "codemirror_mode": {
    "name": "ipython",
    "version": 3
   },
   "file_extension": ".py",
   "mimetype": "text/x-python",
   "name": "python",
   "nbconvert_exporter": "python",
   "pygments_lexer": "ipython3",
   "version": "3.11.9"
  }
 },
 "nbformat": 4,
 "nbformat_minor": 5
}
